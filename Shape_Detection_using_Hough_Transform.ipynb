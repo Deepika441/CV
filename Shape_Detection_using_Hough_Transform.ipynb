{
  "nbformat": 4,
  "nbformat_minor": 0,
  "metadata": {
    "colab": {
      "provenance": [],
      "authorship_tag": "ABX9TyMvtzA0Ito4fd8V4V8yP6fy",
      "include_colab_link": true
    },
    "kernelspec": {
      "name": "python3",
      "display_name": "Python 3"
    },
    "language_info": {
      "name": "python"
    }
  },
  "cells": [
    {
      "cell_type": "markdown",
      "metadata": {
        "id": "view-in-github",
        "colab_type": "text"
      },
      "source": [
        "<a href=\"https://colab.research.google.com/github/Deepika441/CV/blob/main/Shape_Detection_using_Hough_Transform.ipynb\" target=\"_parent\"><img src=\"https://colab.research.google.com/assets/colab-badge.svg\" alt=\"Open In Colab\"/></a>"
      ]
    },
    {
      "cell_type": "code",
      "execution_count": null,
      "metadata": {
        "colab": {
          "base_uri": "https://localhost:8080/",
          "height": 202
        },
        "id": "TSOAM8ElHBFS",
        "outputId": "ab9120bb-e0ed-4cda-d097-4d6b851dcafa"
      },
      "outputs": [
        {
          "output_type": "display_data",
          "data": {
            "text/plain": [
              "<PIL.Image.Image image mode=RGB size=200x185>"
            ],
            "image/png": "[encoded data removed]"
          },
          "metadata": {}
        }
      ],
      "source": [
        "import cv2\n",
        "import numpy as np\n",
        "from google.colab.patches import cv2_imshow\n",
        "def detect_shapes(image_path):\n",
        "    # Load the image\n",
        "    image = cv2.imread(image_path)\n",
        "    if image is None:\n",
        "        print(f\"Error: Failed to load image from {image_path}.\")\n",
        "        return\n",
        "    # Convert the image to grayscale\n",
        "    gray = cv2.cvtColor(image, cv2.COLOR_BGR2GRAY)\n",
        "    # Blur to reduce noise\n",
        "    gray_blurred = cv2.medianBlur(gray, 5)\n",
        "    # Edge detection\n",
        "    edges = cv2.Canny(gray, 50, 150, apertureSize=3)\n",
        "    # Hough Line Transform\n",
        "    lines = cv2.HoughLines(edges, 1, np.pi / 180, 150)\n",
        "    if lines is not None:\n",
        "        for rho, theta in lines[:, 0]:\n",
        "            a = np.cos(theta)\n",
        "            b = np.sin(theta)\n",
        "            x0 = a * rho\n",
        "            y0 = b * rho\n",
        "            x1 = int(x0 + 1000 * (-b))\n",
        "            y1 = int(y0 + 1000 * (a))\n",
        "            x2 = int(x0 - 1000 * (-b))\n",
        "            y2 = int(y0 - 1000 * (a))\n",
        "            cv2.line(image, (x1, y1), (x2, y2), (0, 0, 255), 2)\n",
        "    # Hough Circle Transform\n",
        "    circles = cv2.HoughCircles(gray_blurred, cv2.HOUGH_GRADIENT, 1, 20,\n",
        "                                param1=50, param2=30, minRadius=1, maxRadius=40)\n",
        "    if circles is not None:\n",
        "        circles = np.uint16(np.around(circles))\n",
        "        for i in circles[0, :]:\n",
        "            cv2.circle(image, (i[0], i[1]), i[2], (0, 255, 0), 2)\n",
        "            cv2.circle(image, (i[0], i[1]), 2, (0, 0, 255), 3)\n",
        "    # Contour Detection for Other Shapes\n",
        "    contours, _ = cv2.findContours(edges, cv2.RETR_TREE, cv2.CHAIN_APPROX_SIMPLE)\n",
        "    for contour in contours:\n",
        "        # Approximate the contour\n",
        "        epsilon = 0.02 * cv2.arcLength(contour, True)\n",
        "        approx = cv2.approxPolyDP(contour, epsilon, True)\n",
        "        # Draw the contours for different shapes\n",
        "        if len(approx) == 3:\n",
        "            # Triangle\n",
        "            cv2.drawContours(image, [approx], 0, (0, 255, 255), 2)\n",
        "        elif len(approx) == 4:\n",
        "            # Rectangle or Square\n",
        "            cv2.drawContours(image, [approx], 0, (255, 0, 0), 2)\n",
        "        elif len(approx) > 4:\n",
        "            # Circle or Ellipse\n",
        "            area = cv2.contourArea(contour)\n",
        "            if area > 100:\n",
        "                cv2.drawContours(image, [approx], 0, (255, 255, 0), 2)\n",
        "    # Display the result\n",
        "    cv2_imshow(image)\n",
        "    cv2.waitKey(0)\n",
        "    cv2.destroyAllWindows()\n",
        "# Example usage\n",
        "detect_shapes(\"circle.jpg\")\n",
        "\n"
      ]
    }
  ]
}